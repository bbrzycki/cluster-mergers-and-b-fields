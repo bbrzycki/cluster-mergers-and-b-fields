{
 "cells": [
  {
   "cell_type": "code",
   "execution_count": 1,
   "metadata": {},
   "outputs": [
    {
     "name": "stderr",
     "output_type": "stream",
     "text": [
      "yt : [INFO     ] 2017-11-17 23:00:14,101 Particle file found: fiducial_1to1_b0_mag_hdf5_part_0200\n",
      "yt : [INFO     ] 2017-11-17 23:00:14,165 Parameters: current_time              = 1.26228853487e+17\n",
      "yt : [INFO     ] 2017-11-17 23:00:14,166 Parameters: domain_dimensions         = [16 16 16]\n",
      "yt : [INFO     ] 2017-11-17 23:00:14,167 Parameters: domain_left_edge          = [ -2.20000000e+25  -2.20000000e+25  -2.20000000e+25]\n",
      "yt : [INFO     ] 2017-11-17 23:00:14,169 Parameters: domain_right_edge         = [  2.20000000e+25   2.20000000e+25   2.20000000e+25]\n",
      "yt : [INFO     ] 2017-11-17 23:00:14,170 Parameters: cosmological_simulation   = 0.0\n"
     ]
    }
   ],
   "source": [
    "import yt\n",
    "def _particle_gpot2(field, data):\n",
    "    logic = data[\"io\",\"particle_halo\"] == 1.\n",
    "    return data[\"io\",\"particle_gpot\"]*logic\n",
    "yt.add_field((\"io\", \"particle_gpot2\"), function=_particle_gpot2, units=\"dimensionless\",particle_type=True,force_override=True)\n",
    "\n",
    "\n",
    "def _particle_gpot1(field, data):\n",
    "    new=[]\n",
    "    for (a,b) in zip(data[\"io\",\"particle_gpot\"],data[\"io\",\"particle_halo\"]):\n",
    "        if b==1.:\n",
    "            new.append(a)\n",
    "        else:\n",
    "            new.append(0.)\n",
    "    return yt.YTArray(new)\n",
    "yt.add_field((\"io\", \"particle_gpot1\"), function=_particle_gpot1, units=\"dimensionless\",particle_type=True,force_override=True)\n",
    "\n",
    "def _test1(field, data):\n",
    "    return data[\"io\",\"particle_gpot\"]*data[\"io\",\"particle_halo\"]\n",
    "yt.add_field((\"io\", \"test1\"), function=_test1, units=\"dimensionless\",particle_type=True,force_override=True)\n",
    "\n",
    "def _test2(field, data):\n",
    "    new=[]\n",
    "    for x in data[\"io\",\"particle_gpot\"]:\n",
    "        new.append(x)\n",
    "    return yt.YTArray(new)\n",
    "yt.add_field((\"io\", \"test2\"), function=_test2, units=\"dimensionless\",particle_type=True,force_override=True)\n",
    "\n",
    "def _test3(field, data):\n",
    "    return data[\"io\",\"particle_gpot\"]*yt.YTArray(list(map(lambda x: 1. if x==1. else 0., data[\"io\",\"particle_halo\"])))\n",
    "yt.add_field((\"io\", \"test3\"), function=_test3, units=\"dimensionless\",particle_type=True,force_override=True)\n",
    "\n",
    "\n",
    "ds=yt.load(\"/data/mimir/jzuhone/data/fid_mag/1to1_b0/fiducial_1to1_b0_mag_hdf5_plt_cnt_0200\")"
   ]
  },
  {
   "cell_type": "code",
   "execution_count": 2,
   "metadata": {},
   "outputs": [
    {
     "name": "stdout",
     "output_type": "stream",
     "text": [
      "fiducial_1to1_b0_mag_hdf5_plt_cnt_0200\n",
      "0.00028586387634277344\n"
     ]
    }
   ],
   "source": [
    "import time\n",
    "test=time.time()\n",
    "print(ds)\n",
    "test1=time.time()\n",
    "print(test1-test)"
   ]
  },
  {
   "cell_type": "code",
   "execution_count": 3,
   "metadata": {},
   "outputs": [],
   "source": [
    "sp=ds.sphere([0,0,0],ds.quan(10,\"kpc\"))"
   ]
  },
  {
   "cell_type": "code",
   "execution_count": 4,
   "metadata": {},
   "outputs": [
    {
     "data": {
      "text/plain": [
       "YTSphere (fiducial_1to1_b0_mag_hdf5_plt_cnt_0200): , center=[ 0.  0.  0.] cm, radius=3.0856775809623245e+22 cm"
      ]
     },
     "execution_count": 4,
     "metadata": {},
     "output_type": "execute_result"
    }
   ],
   "source": [
    "sp"
   ]
  },
  {
   "cell_type": "code",
   "execution_count": 5,
   "metadata": {},
   "outputs": [
    {
     "data": {
      "text/plain": [
       "YTArray([-1., -1.,  1., ...,  1.,  2.,  1.]) (dimensionless)"
      ]
     },
     "execution_count": 5,
     "metadata": {},
     "output_type": "execute_result"
    }
   ],
   "source": [
    "x=sp['io','particle_halo']\n",
    "x"
   ]
  },
  {
   "cell_type": "code",
   "execution_count": 6,
   "metadata": {},
   "outputs": [
    {
     "data": {
      "text/plain": [
       "YTArray([ -1.00000000e+00,  -1.00000000e+00,  -1.05635072e+17, ...,\n",
       "        -1.06022743e+17,  -1.05761145e+17,  -1.06127635e+17]) (dimensionless)"
      ]
     },
     "execution_count": 6,
     "metadata": {},
     "output_type": "execute_result"
    }
   ],
   "source": [
    "sp['io','particle_gpot']"
   ]
  },
  {
   "cell_type": "code",
   "execution_count": 7,
   "metadata": {},
   "outputs": [
    {
     "data": {
      "text/plain": [
       "-1.0 dimensionless"
      ]
     },
     "execution_count": 7,
     "metadata": {},
     "output_type": "execute_result"
    }
   ],
   "source": [
    "min(x)"
   ]
  },
  {
   "cell_type": "code",
   "execution_count": 8,
   "metadata": {},
   "outputs": [
    {
     "data": {
      "text/plain": [
       "array([0, 0, 1])"
      ]
     },
     "execution_count": 8,
     "metadata": {},
     "output_type": "execute_result"
    }
   ],
   "source": [
    "import numpy\n",
    "a=[0,5,-3]\n",
    "b=numpy.array(list(map(lambda x: 1 if x==-3 else 0, a)))\n",
    "b"
   ]
  },
  {
   "cell_type": "code",
   "execution_count": 9,
   "metadata": {},
   "outputs": [
    {
     "data": {
      "text/plain": [
       "YTArray([  0.00000000e+00,   0.00000000e+00,  -1.05635072e+17, ...,\n",
       "        -1.06022743e+17,   0.00000000e+00,  -1.06127635e+17]) dimensionless"
      ]
     },
     "execution_count": 9,
     "metadata": {},
     "output_type": "execute_result"
    }
   ],
   "source": [
    "sp['io','particle_gpot1']"
   ]
  },
  {
   "cell_type": "code",
   "execution_count": 10,
   "metadata": {},
   "outputs": [
    {
     "data": {
      "text/plain": [
       "0.0 dimensionless"
      ]
     },
     "execution_count": 10,
     "metadata": {},
     "output_type": "execute_result"
    }
   ],
   "source": [
    "max(sp['io','particle_gpot1'])"
   ]
  },
  {
   "cell_type": "code",
   "execution_count": 11,
   "metadata": {},
   "outputs": [
    {
     "data": {
      "text/plain": [
       "-1.0616016874348488e+17 dimensionless"
      ]
     },
     "execution_count": 11,
     "metadata": {},
     "output_type": "execute_result"
    }
   ],
   "source": [
    "min(sp['io','particle_gpot1'])"
   ]
  },
  {
   "cell_type": "code",
   "execution_count": 12,
   "metadata": {},
   "outputs": [],
   "source": [
    "# start=time.time()\n",
    "# ad=ds.sphere([0,0,0],ds.quan(2,\"Mpc\"))\n",
    "# end=time.time()\n",
    "# print(ad.quantities.min_location(('io','particle_gpot1')))\n",
    "# end1=time.time()\n",
    "# print(end-start,end1-end)"
   ]
  },
  {
   "cell_type": "code",
   "execution_count": 13,
   "metadata": {},
   "outputs": [
    {
     "name": "stdout",
     "output_type": "stream",
     "text": [
      "made ad\n",
      "[-1.0616016874348488e+17 dimensionless, -6.741936921116183e+21 code_length, 1.044012296933925e+22 code_length, -8.935101074993011e+21 code_length]\n",
      "[-1.0616016874348488e+17 dimensionless, -6.741936921116183e+21 code_length, 1.044012296933925e+22 code_length, -8.935101074993011e+21 code_length]\n",
      "[-1.0616016874348488e+17 dimensionless, -6.741936921116183e+21 code_length, 1.044012296933925e+22 code_length, -8.935101074993011e+21 code_length]\n",
      "[-2.123353029477784e+17 dimensionless, -5.011905813061215e+21 code_length, 1.1208035983966731e+22 code_length, 1.7539997749322008e+22 code_length]\n",
      "[-1.061676514738892e+17 dimensionless, -5.011905813061215e+21 code_length, 1.1208035983966731e+22 code_length, 1.7539997749322008e+22 code_length]\n",
      "0.0010144710540771484 40.75129675865173 430.2402105331421 508.1337921619415 13.855775356292725 88.30293011665344\n"
     ]
    }
   ],
   "source": [
    "start=time.time()\n",
    "ad=ds.all_data()\n",
    "print('made ad')\n",
    "end0=time.time()\n",
    "print(ad.quantities.min_location(('io','particle_gpot2')))\n",
    "end=time.time()\n",
    "print(ad.quantities.min_location(('io','test3')))\n",
    "end_5=time.time()\n",
    "print(ad.quantities.min_location(('io','particle_gpot1')))\n",
    "end1=time.time()\n",
    "print(ad.quantities.min_location(('io','test1')))\n",
    "end2=time.time()\n",
    "#print(end-start,end1-end,end2-end1)\n",
    "print(ad.quantities.min_location(('io','test2')))\n",
    "end3=time.time()\n",
    "print(end0-start,end-end0,end_5-end,end1-end_5,end2-end1,end3-end2)\n",
    "#[-1.0616016874348488e+17 dimensionless, -6.741936921116183e+21 code_length, 1.044012296933925e+22 code_length, -8.935101074993011e+21 code_length]\n",
    "#0.0008215904235839844 526.4378077983856"
   ]
  },
  {
   "cell_type": "code",
   "execution_count": 14,
   "metadata": {},
   "outputs": [
    {
     "data": {
      "text/plain": [
       "YTRegion (fiducial_1to1_b0_mag_hdf5_plt_cnt_0200): , center=[ 0.  0.  0.] cm, left_edge=[ -2.20000000e+25  -2.20000000e+25  -2.20000000e+25] cm, right_edge=[  2.20000000e+25   2.20000000e+25   2.20000000e+25] cm"
      ]
     },
     "execution_count": 14,
     "metadata": {},
     "output_type": "execute_result"
    }
   ],
   "source": [
    "ad"
   ]
  },
  {
   "cell_type": "code",
   "execution_count": 15,
   "metadata": {},
   "outputs": [
    {
     "data": {
      "text/plain": [
       "YTArray([ 1.,  1.,  1., ...,  1.,  1.,  1.]) dimensionless"
      ]
     },
     "execution_count": 15,
     "metadata": {},
     "output_type": "execute_result"
    }
   ],
   "source": [
    "ad[('io','test1')]"
   ]
  },
  {
   "cell_type": "code",
   "execution_count": 16,
   "metadata": {},
   "outputs": [
    {
     "data": {
      "text/plain": [
       "YTArray([-1., -1., -1., ..., -1., -1., -1.]) dimensionless"
      ]
     },
     "execution_count": 16,
     "metadata": {},
     "output_type": "execute_result"
    }
   ],
   "source": [
    "ad[('io','test2')]"
   ]
  },
  {
   "cell_type": "code",
   "execution_count": 17,
   "metadata": {},
   "outputs": [
    {
     "data": {
      "text/plain": [
       "YTArray([ 0.,  0.,  0., ...,  0.,  0.,  0.]) dimensionless"
      ]
     },
     "execution_count": 17,
     "metadata": {},
     "output_type": "execute_result"
    }
   ],
   "source": [
    "ad[('io','particle_gpot1')]"
   ]
  },
  {
   "cell_type": "code",
   "execution_count": 18,
   "metadata": {},
   "outputs": [
    {
     "data": {
      "text/plain": [
       "-1.061676514738892e+17 dimensionless"
      ]
     },
     "execution_count": 18,
     "metadata": {},
     "output_type": "execute_result"
    }
   ],
   "source": [
    "min(sp['io','particle_gpot'])"
   ]
  },
  {
   "cell_type": "code",
   "execution_count": 19,
   "metadata": {},
   "outputs": [
    {
     "name": "stderr",
     "output_type": "stream",
     "text": [
      "yt : [INFO     ] 2017-11-17 23:28:37,409 Min Value is -1.06234e+17 at -10742187367287431888896.0000000000000000 10742187367287431888896.0000000000000000 10742187367287431888896.0000000000000000\n"
     ]
    },
    {
     "name": "stdout",
     "output_type": "stream",
     "text": [
      "Took 21.59308362007141 seconds\n"
     ]
    }
   ],
   "source": [
    "start=time.time()\n",
    "v, c = ds.find_min('gpot')\n",
    "end=time.time()\n",
    "print(\"Took\",end-start,\"seconds\")"
   ]
  },
  {
   "cell_type": "code",
   "execution_count": 20,
   "metadata": {},
   "outputs": [
    {
     "name": "stdout",
     "output_type": "stream",
     "text": [
      "-1.0623422936016486e+17 code_length**2/code_time**2 [ -1.07421874e+22   1.07421874e+22   1.07421874e+22] code_length\n"
     ]
    }
   ],
   "source": [
    "print(v,c)"
   ]
  },
  {
   "cell_type": "code",
   "execution_count": 21,
   "metadata": {},
   "outputs": [
    {
     "name": "stderr",
     "output_type": "stream",
     "text": [
      "yt : [INFO     ] 2017-11-17 23:37:05,036 Min Value is -1.06160e+17 at -6741936921116183363584.0000000000000000 10440122969339249819648.0000000000000000 -8935101074993010704384.0000000000000000\n"
     ]
    },
    {
     "name": "stdout",
     "output_type": "stream",
     "text": [
      "Took 507.6110129356384 seconds\n"
     ]
    }
   ],
   "source": [
    "start=time.time()\n",
    "v, c = ds.find_min(('io','particle_gpot1'))\n",
    "end=time.time()\n",
    "print(\"Took\",end-start,\"seconds\")"
   ]
  },
  {
   "cell_type": "code",
   "execution_count": 22,
   "metadata": {},
   "outputs": [
    {
     "name": "stdout",
     "output_type": "stream",
     "text": [
      "-1.0616016874348488e+17 dimensionless [ -6.74193692e+21   1.04401230e+22  -8.93510107e+21] code_length\n"
     ]
    }
   ],
   "source": [
    "print(v,c)"
   ]
  },
  {
   "cell_type": "code",
   "execution_count": null,
   "metadata": {},
   "outputs": [],
   "source": []
  }
 ],
 "metadata": {
  "kernelspec": {
   "display_name": "Python 3",
   "language": "python",
   "name": "python3"
  },
  "language_info": {
   "codemirror_mode": {
    "name": "ipython",
    "version": 3
   },
   "file_extension": ".py",
   "mimetype": "text/x-python",
   "name": "python",
   "nbconvert_exporter": "python",
   "pygments_lexer": "ipython3",
   "version": "3.6.0"
  }
 },
 "nbformat": 4,
 "nbformat_minor": 2
}
